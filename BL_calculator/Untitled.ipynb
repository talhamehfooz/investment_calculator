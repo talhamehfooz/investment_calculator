{
 "cells": [
  {
   "cell_type": "code",
   "execution_count": 3,
   "id": "5f376dac-16bc-4a29-8cd6-47d7a2fcecef",
   "metadata": {},
   "outputs": [],
   "source": [
    "\n",
    "\n",
    "# Define minimum investment requirements and profit ranges for each plan\n",
    "investment_plans = {\n",
    "    \"Six months\": {\"min_investment\": 100000, \"profit_range\": (2.0, 2.2)},\n",
    "    \"One year\": {\"min_investment\": 0, \"profit_range\": (2.2, 2.6)},\n",
    "    \"Two years\": {\"min_investment\": 2000000, \"profit_range\": (2.6, 2.9)},\n",
    "    \"Three years\": {\"min_investment\": 5000000, \"profit_range\": (3.0, 3.3)},\n",
    "}\n",
    "\n",
    "def calculate_investment(plan, investment_amount, chosen_profit_rate):\n",
    "    # Get the number of months for the selected plan\n",
    "    plan_durations = {\n",
    "        \"Six months\": 6,\n",
    "        \"One year\": 12,\n",
    "        \"Two years\": 24,\n",
    "        \"Three years\": 36\n",
    "    }\n",
    "    months = plan_durations.get(plan, 0)\n",
    "\n",
    "    # Calculate the monthly return and total profit\n",
    "    monthly_return = investment_amount * (chosen_profit_rate / 100)\n",
    "    total_profit = monthly_return * months\n",
    "    total_value = investment_amount + total_profit\n",
    "\n",
    "    # Display results\n",
    "    st.success(f\"**Investment Plan:** {plan}\")\n",
    "    st.write(f\"**Investment Amount:** {investment_amount:,.2f} PKR\")\n",
    "    st.write(f\"**Chosen Monthly Profit Rate:** {chosen_profit_rate}%\")\n",
    "    st.write(f\"**Monthly Return:** {monthly_return:,.2f} PKR\")\n",
    "    st.write(f\"**Total Profit Over {months} Months:** {total_profit:,.2f} PKR\")\n",
    "    st.write(f\"**Total Value at Maturity:** {total_value:,.2f} PKR\")\n",
    "\n",
    "# Streamlit layout settings\n",
    "st.title(\"Investment Calculator\")\n",
    "\n",
    "# Display investment plans\n",
    "st.subheader(\"Choose Your Investment Plan\")\n",
    "plan = st.selectbox(\"Select an investment plan\", list(investment_plans.keys()))\n",
    "\n",
    "# Show plan details based on selection\n",
    "plan_details = investment_plans[plan]\n",
    "st.write(f\"**Minimum Investment:** {plan_details['min_investment']:,.2f} PKR\")\n",
    "st.write(f\"**Profit Range:** {plan_details['profit_range'][0]}% to {plan_details['profit_range'][1]}% per month\")\n",
    "\n",
    "# Investment amount input with validation\n",
    "investment_amount = st.number_input(\"Enter your investment amount (in PKR)\", min_value=0.0, step=10000.0, format=\"%f\")\n",
    "if investment_amount < plan_details[\"min_investment\"]:\n",
    "    st.error(f\"Minimum investment for this plan is {plan_details['min_investment']:,.2f} PKR.\")\n",
    "\n",
    "# Chosen profit rate input with validation\n",
    "chosen_profit_rate = st.number_input(\"Enter your chosen monthly profit rate (%)\", min_value=0.0, step=0.1, format=\"%f\")\n",
    "if not (plan_details[\"profit_range\"][0] <= chosen_profit_rate <= plan_details[\"profit_range\"][1]):\n",
    "    st.error(f\"Profit rate must be between {plan_details['profit_range'][0]}% and {plan_details['profit_range'][1]}%.\")\n",
    "\n",
    "# Calculate button\n",
    "if st.button(\"Calculate\") and investment_amount >= plan_details[\"min_investment\"]:\n",
    "    if plan_details[\"profit_range\"][0] <= chosen_profit_rate <= plan_details[\"profit_range\"][1]:\n",
    "        calculate_investment(plan, investment_amount, chosen_profit_rate)\n",
    "    else:\n",
    "        st.warning(\"Please enter a valid profit rate within the specified range.\")\n"
   ]
  },
  {
   "cell_type": "code",
   "execution_count": 5,
   "id": "d73fe901-ab04-4856-9983-9f036b56d799",
   "metadata": {},
   "outputs": [
    {
     "name": "stdout",
     "output_type": "stream",
     "text": [
      "Note: you may need to restart the kernel to use updated packages.\n"
     ]
    },
    {
     "name": "stderr",
     "output_type": "stream",
     "text": [
      "ERROR: Could not find a version that satisfies the requirement as (from versions: none)\n",
      "ERROR: No matching distribution found for as\n"
     ]
    }
   ],
   "source": [
    "pip install as streamlit\n"
   ]
  },
  {
   "cell_type": "code",
   "execution_count": null,
   "id": "2c752d83-9f20-470c-a31e-2f50a12f798c",
   "metadata": {},
   "outputs": [],
   "source": []
  },
  {
   "cell_type": "code",
   "execution_count": null,
   "id": "d5bd5952-7e28-45f9-b663-3d7f2977c858",
   "metadata": {},
   "outputs": [],
   "source": []
  }
 ],
 "metadata": {
  "kernelspec": {
   "display_name": "Python 3 (ipykernel)",
   "language": "python",
   "name": "python3"
  },
  "language_info": {
   "codemirror_mode": {
    "name": "ipython",
    "version": 3
   },
   "file_extension": ".py",
   "mimetype": "text/x-python",
   "name": "python",
   "nbconvert_exporter": "python",
   "pygments_lexer": "ipython3",
   "version": "3.12.4"
  }
 },
 "nbformat": 4,
 "nbformat_minor": 5
}
